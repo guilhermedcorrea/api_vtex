{
 "cells": [
  {
   "cell_type": "code",
   "execution_count": 128,
   "metadata": {},
   "outputs": [],
   "source": [
    "import pandas as pd\n",
    "import requests\n",
    "import http.client\n",
    "from dotenv import load_dotenv\n",
    "import os\n",
    "import json\n",
    "import warnings\n",
    "warnings.simplefilter(action='ignore')\n",
    "\n",
    "load_dotenv()\n",
    "\n",
    "TOKEN = os.getenv('TOKEN')\n",
    "SECRET_KEY = os.getenv('key')\n",
    "id_loja = os.getenv('IDLOJA')"
   ]
  },
  {
   "cell_type": "code",
   "execution_count": 126,
   "metadata": {},
   "outputs": [],
   "source": [
    "##Reader Excel Files\n",
    "base_precos = pd.read_csv(r\"C:\\api_vtex\\preco_produtos.csv\",sep=\";\")\n",
    "tabela_1 = base_precos[base_precos['Trade Policy']==1]\n",
    "tabela_1['Price'] = tabela_1['Price'].astype(float)"
   ]
  },
  {
   "cell_type": "code",
   "execution_count": 120,
   "metadata": {},
   "outputs": [],
   "source": [
    "import http.client\n",
    "\n",
    "conn = http.client.HTTPSConnection(\"api.vtex.com\")"
   ]
  },
  {
   "cell_type": "code",
   "execution_count": null,
   "metadata": {},
   "outputs": [],
   "source": [
    "#Atualiza Preços\n",
    "\n",
    "def update_lists_prices_products(*args, **kwargs):\n",
    "    '''\n",
    "    \n",
    "    payload = \"{\\\"markup\\\":0,\\\"listPrice\\\":0,\\\"basePrice\\\":0,\\\"costPrice\\\":0,\\\"fixedPrices\\\":[{\\\"tradePolicyId\\\":\\\"1\\\",\\\"value\\\":50.5,\\\"listPrice\\\":50.5,\\\"minQuantity\\\":2,\\\"dateRange\\\":{\\\"from\\\":\\\"2021-12-30T22:00:00-03:00\\\",\\\"to\\\":\\\"2021-12-30T22:00:00-03:00\\\"}}]}\"\n",
    "\n",
    "    headers = {\n",
    "        'Accept': \"application/json\",\n",
    "        'Content-Type': \"application/json\",\n",
    "        'X-VTEX-API-AppKey': f\"{SECRET_KEY}\",\n",
    "        'X-VTEX-API-AppToken': f\"{TOKEN}\"\n",
    "        }\n",
    "\n",
    "\n",
    "    conn.request(\"put\", f\"/{id_loja}/pricing/prices/{itemId}\", payload, headers)\n",
    "\n",
    "    res = conn.getresponse()\n",
    "    data = res.read()\n",
    "\n",
    "    print(data.decode(\"utf-8\"))\n",
    "'''\n",
    "\n",
    "\n",
    "update_lists_prices_products()\n"
   ]
  },
  {
   "cell_type": "code",
   "execution_count": 125,
   "metadata": {},
   "outputs": [
    {
     "name": "stdout",
     "output_type": "stream",
     "text": [
      "{'tableinfos': [{'id': 0, 'context': {'categories': {}, 'brands': {}, 'stockStatuses': None, 'internalCategories': None, 'markupRange': None, 'dateRange': None}, 'percentualModifier': 10}], 'politicacomercial': '1'}\n"
     ]
    }
   ],
   "source": [
    "\n",
    "#Retorna tabela preços\n",
    "def listing_table_prices(idloja):\n",
    "\n",
    "    headers = {\n",
    "    'Accept': \"application/json\",\n",
    "    'Content-Type': \"application/json\",\n",
    "    'X-VTEX-API-AppKey': f\"{SECRET_KEY}\",\n",
    "    'X-VTEX-API-AppToken': f\"{TOKEN}\"\n",
    "    }\n",
    "\n",
    "    conn.request(\"get\", f\"/{idloja}/pricing/pipeline/catalog/1\", headers=headers)\n",
    "\n",
    "    res = conn.getresponse()\n",
    "    data = res.read()\n",
    "    jsons = json.loads(data.decode(\"utf-8\"))\n",
    "    try:\n",
    "        dict_tables = {\n",
    "            \"tableinfos\":jsons['rules'],\n",
    "            \"politicacomercial\":jsons['tradePolicyId']}\n",
    "       \n",
    "        yield dict_tables\n",
    "    except Exception as e:\n",
    "        print(e)\n",
    "    \n",
    "\n",
    "dicts = listing_table_prices()\n",
    "print(next(dicts))\n"
   ]
  },
  {
   "cell_type": "code",
   "execution_count": 89,
   "metadata": {},
   "outputs": [],
   "source": [
    "#Retorna Lista de produtos e preçs\n",
    "def get_products_prices(produtoid,id_loja,idtabela=1):\n",
    "    headers = {\n",
    "        'Accept': \"application/json\",\n",
    "        'Content-Type': \"application/json\",\n",
    "        'X-VTEX-API-AppKey': f\"{SECRET_KEY}\",\n",
    "        'X-VTEX-API-AppToken': f\"{TOKEN}\"\n",
    "        }\n",
    "\n",
    "    conn.request(\"get\", f\"/{id_loja}/pricing/prices/{produtoid}/fixed/{idtabela}\", headers=headers)\n",
    "\n",
    "    res = conn.getresponse()\n",
    "    data = res.read()\n",
    "    jsons = json.loads(data.decode(\"utf-8\"))\n",
    "    \n",
    "    for js in jsons:\n",
    "        product_dict = {}\n",
    "        try:\n",
    "            product_dict['PoliticaPreco'] = js.get('tradePolicyId',None)\n",
    "            product_dict['Preco'] = float(js.get('value',None))\n",
    "            \n",
    "            print(product_dict)\n",
    "        except Exception as e:\n",
    "            print(e)\n",
    "        \n",
    "    \n",
    "    "
   ]
  },
  {
   "cell_type": "code",
   "execution_count": null,
   "metadata": {},
   "outputs": [],
   "source": [
    "product_id = tabela_1[['Trade Policy','SKU ID']].to_dict('records')\n",
    "for product in product_id:\n",
    "    get_products_prices(product['SKU ID'],product['Trade Policy'])\n",
    "   "
   ]
  },
  {
   "cell_type": "code",
   "execution_count": null,
   "metadata": {},
   "outputs": [],
   "source": [
    "#Lista inventario por produto\n",
    "def listing_inventory_itens(sku,id_loja):\n",
    "        headers = {\n",
    "                'Accept': \"application/json\",\n",
    "                'Content-Type': \"application/json\",\n",
    "                'X-VTEX-API-AppKey': f\"{SECRET_KEY}\",\n",
    "                'X-VTEX-API-AppToken': f\"{TOKEN}\"\n",
    "                }\n",
    "\n",
    "        conn.request(\"get\", f\"/{id_loja}/admin/inventory.com.br/api/logistics/pvt/inventory/items/{sku}/docks/\", headers=headers)\n",
    "\n",
    "        res = conn.getresponse()\n",
    "        data = res.read()\n",
    "\n",
    "        print(data.decode(\"utf-8\"))\n"
   ]
  }
 ],
 "metadata": {
  "kernelspec": {
   "display_name": "venv",
   "language": "python",
   "name": "python3"
  },
  "language_info": {
   "codemirror_mode": {
    "name": "ipython",
    "version": 3
   },
   "file_extension": ".py",
   "mimetype": "text/x-python",
   "name": "python",
   "nbconvert_exporter": "python",
   "pygments_lexer": "ipython3",
   "version": "3.11.2"
  },
  "orig_nbformat": 4
 },
 "nbformat": 4,
 "nbformat_minor": 2
}
